{
 "cells": [
  {
   "cell_type": "code",
   "execution_count": 3,
   "metadata": {},
   "outputs": [],
   "source": [
    "import pandas as pd\n",
    "import seaborn as sns\n",
    "import numpy as np\n",
    "import matplotlib.pyplot as plt"
   ]
  },
  {
   "cell_type": "markdown",
   "metadata": {},
   "outputs": [],
   "source": [
    "# Annotation stats\n",
    "\n",
    "This notebook contains all calculations for the statistics mentioned on the annotation status of the pVOGs.\n",
    "\n",
    "Processing of all the annotation terms found on the database is based on the script `process_annotations.py`.\n",
    "The purpose  is to reach to a single informative annotation per pVOG. \n",
    "If that is not the case, the annotation status is defined to be unknown."
   ]
  },
  {
   "cell_type": "markdown",
   "metadata": {},
   "outputs": [],
   "source": [
    "### How many pVOGs have a meaningful annotation in the database?"
   ]
  },
  {
   "cell_type": "code",
   "execution_count": 14,
   "metadata": {},
   "outputs": [],
   "source": [
    "# Read in the result of the processing step\n",
    "ann_df = pd.read_csv(snakemake.input.annotations_tsv,\n",
    "                    sep=\"\\t\")\n",
    "\n",
    "# sanity check - how many pvogs are in there\n",
    "all_pvogs = ann_df.shape[0]\n",
    "\n",
    "# How many pvogs have been processed to be 'unknown'\n",
    "unknowns = (ann_df['annotation_processed'] == 'unknown').sum()\n",
    "\n",
    "print(\n",
    "    \"pVOGs with processed annotation value set to 'unknown' : {} / {} ({} %)\"\n",
    "    .format(unknowns,\n",
    "            all_pvogs,\n",
    "            (round(unknowns / all_pvogs, 3) * 100)))"
   ]
  },
  {
   "cell_type": "code",
   "execution_count": 17,
   "metadata": {},
   "outputs": [],
   "source": [
    "# Read in the results of the predictions\n",
    "predictions = pd.read_csv(snakemake.input.final_table_tsv, \n",
    "                             sep = \"\\t\"\n",
    "                            )\n",
    "# Split the interaction string (pvog1-pvog2) to two separate columns\n",
    "# and include them in hte dataframe\n",
    "pvog1 = [i.split('-')[0] for i in predictions['interaction'].values]\n",
    "pvog2 = [i.split('-')[1] for i in predictions['interaction'].values]\n",
    "predictions['pvog1'] = pvog1\n",
    "predictions['pvog2'] = pvog2"
   ]
  },
  {
   "cell_type": "markdown",
   "metadata": {},
   "outputs": [],
   "source": [
    "###  How many unique pvogs are covered in this dataset?"
   ]
  },
  {
   "cell_type": "code",
   "execution_count": 23,
   "metadata": {},
   "outputs": [],
   "source": [
    "unique_pvogs = set(predictions['pvog1'].values).union(set(predictions['pvog2'].values))\n",
    "\n",
    "print(\"pVOGs used for prediction : {} / {} ({} %)\".\n",
    "      format(len(unique_pvogs),\n",
    "             all_pvogs,\n",
    "             round((len(unique_pvogs) / all_pvogs), 3) * 100)\n",
    "     )"
   ]
  },
  {
   "cell_type": "markdown",
   "metadata": {},
   "outputs": [],
   "source": [
    "### How many are interacting/associated?"
   ]
  },
  {
   "cell_type": "code",
   "execution_count": 34,
   "metadata": {},
   "outputs": [],
   "source": [
    "positive_predictions = predictions[(predictions['label'] == 1.0)]\n",
    "\n",
    "print(\"All positive predictions: {}\".format(positive_predictions.shape[0]))"
   ]
  },
  {
   "cell_type": "markdown",
   "metadata": {},
   "outputs": [],
   "source": [
    "### How many of the postive interactions have probability higher than 0.65 (arbitrary high-confidence cutoff)"
   ]
  },
  {
   "cell_type": "code",
   "execution_count": 36,
   "metadata": {},
   "outputs": [],
   "source": [
    "high_confidence = positive_predictions.loc[positive_predictions['proba'] >= 0.65]\n",
    "print('High confidence (proba >= 0.65) : {} ({} % )'\n",
    "      .format(high_confidence.shape[0], \n",
    "              round((high_confidence.shape[0] / positive_predictions.shape[0]), 3) * 100))"
   ]
  },
  {
   "cell_type": "markdown",
   "metadata": {},
   "outputs": [],
   "source": [
    "### How many of the positive interactions occur between pairs where both pVOGs are annotated?"
   ]
  },
  {
   "cell_type": "code",
   "execution_count": 40,
   "metadata": {},
   "outputs": [],
   "source": [
    "both_known = positive_predictions.loc[\n",
    "    positive_predictions['pvog1_annotation_processed'].ne('unknown') & \n",
    "    positive_predictions['pvog2_annotation_processed'].ne('unknown')]\n",
    "    \n",
    "print(\"Number of positive interactions with both pVOGs annotated : {} ({} %)\"\n",
    "      .format(both_known.shape[0],\n",
    "              round((both_known.shape[0] / positive_predictions.shape[0]), 3) * 100) )\n"
   ]
  },
  {
   "cell_type": "markdown",
   "metadata": {},
   "outputs": [],
   "source": [
    "### TOP 20 - Both annotated"
   ]
  },
  {
   "cell_type": "code",
   "execution_count": 64,
   "metadata": {},
   "outputs": [],
   "source": [
    "both_known.sort_values('proba', \n",
    "                       ascending=False)[['pvog1', \n",
    "                                         'pvog2', \n",
    "                                         'proba', \n",
    "                                         'pvog1_annotation_raw', \n",
    "                                         'pvog2_annotation_raw']\n",
    "                                       ].head(n=20)"
   ]
  },
  {
   "cell_type": "markdown",
   "metadata": {},
   "outputs": [],
   "source": [
    "### How many of the positive interactions occur between pairs where at least one pVOG is annotated?"
   ]
  },
  {
   "cell_type": "code",
   "execution_count": 41,
   "metadata": {},
   "outputs": [],
   "source": [
    "one_unknown = positive_predictions.loc[\n",
    "    positive_predictions['pvog1_annotation_processed'].ne('unknown') & \n",
    "      positive_predictions['pvog2_annotation_processed'].eq('unknown')\n",
    "     | positive_predictions['pvog1_annotation_processed'].eq('unknown') & \n",
    "        positive_predictions['pvog2_annotation_processed'].ne('unknown'),\n",
    "    ]\n",
    "\n",
    "print(\"Number of interactions with at least one pVOGs annotated : {} ({} %)\"\n",
    "      .format(one_unknown.shape[0], \n",
    "              round((one_unknown.shape[0] / positive_predictions.shape[0]), 3) * 100) )"
   ]
  },
  {
   "cell_type": "markdown",
   "metadata": {},
   "outputs": [],
   "source": [
    "### How many of the positive interactions occur between pairs where neither pVOG is annotated?"
   ]
  },
  {
   "cell_type": "code",
   "execution_count": 45,
   "metadata": {},
   "outputs": [],
   "source": [
    "both_unknown = positive_predictions.loc[\n",
    "    positive_predictions['pvog1_annotation_processed'].eq('unknown') & \n",
    "    positive_predictions['pvog2_annotation_processed'].eq('unknown'),\n",
    "    ]\n",
    "print(\"Number of interactions neither pVOG annotated : {} ({} %)\"\n",
    "      .format(both_unknown.shape[0], \n",
    "              round((both_unknown.shape[0] / positive_predictions.shape[0]), 3) * 100) )"
   ]
  },
  {
   "cell_type": "markdown",
   "metadata": {},
   "outputs": [],
   "source": [
    "## A picture is a 1000 words - some say..."
   ]
  },
  {
   "cell_type": "code",
   "execution_count": 46,
   "metadata": {},
   "outputs": [],
   "source": [
    "# Put the steps fom above in a figure\n",
    "df = predictions[['interaction', 'label', 'proba', \n",
    "                'pvog1_annotation_processed',\n",
    "                'pvog2_annotation_processed']]"
   ]
  },
  {
   "cell_type": "code",
   "execution_count": 47,
   "metadata": {},
   "outputs": [],
   "source": [
    "# https://stackoverflow.com/a/60244752\n",
    "# Define the three conditions to plot\n",
    "# These will be used as hue for sns.displot()\n",
    "conditions = [\n",
    "    # Both unknown\n",
    "    df['pvog1_annotation_processed'].eq('unknown') & \n",
    "     df['pvog2_annotation_processed'].eq('unknown'),\n",
    "    # One known\n",
    "    df['pvog1_annotation_processed'].ne('unknown') & \n",
    "      df['pvog2_annotation_processed'].eq('unknown')\n",
    "     | df['pvog1_annotation_processed'].eq('unknown') & \n",
    "        df['pvog2_annotation_processed'].ne('unknown'),\n",
    "    # Both known\n",
    "    df['pvog1_annotation_processed'].ne('unknown') & \n",
    "     df['pvog2_annotation_processed'].ne('unknown'),\n",
    "]\n",
    "\n",
    "# The choices are the values to be filled in\n",
    "# when one condition from above is met.\n",
    "# e.g. (False, True, False) will give 'One known'\n",
    "choices = ['Both unknown', 'One known', 'Both known']"
   ]
  },
  {
   "cell_type": "code",
   "execution_count": 49,
   "metadata": {},
   "outputs": [],
   "source": [
    "# Fill in the values in an ann_status column\n",
    "df['ann_status'] = np.select(conditions, choices)"
   ]
  },
  {
   "cell_type": "code",
   "execution_count": 52,
   "metadata": {},
   "outputs": [],
   "source": [
    "# make the plot\n",
    "sns.color_palette(\"colorblind\")\n",
    "g = sns.displot(df, \n",
    "                x='proba', \n",
    "                hue='ann_status', \n",
    "                kind='hist', \n",
    "                multiple = 'stack',\n",
    "                height=5, \n",
    "                aspect=2, \n",
    "                facet_kws={'legend_out': False}\n",
    "               )\n",
    "g.set_xlabels(\"Probability\")\n",
    "g.set_ylabels(\"No. of predictions\")\n",
    "g._legend.set_title(\"Annotation status\")\n",
    "g.ax.set_xticks(np.arange(0.0, 1.1, 0.1))\n",
    "g.savefig(snakemake.output[0], dpi=600)"
   ]
  },
  {
   "cell_type": "code",
   "execution_count": 53,
   "metadata": {},
   "outputs": [],
   "source": [
    "# And what does the density look like?\n",
    "gg = sns.displot(df, \n",
    "                 x='proba', \n",
    "                 hue='ann_status', \n",
    "                 kind='kde',\n",
    "                 height=5,\n",
    "                 aspect=2, \n",
    "                 facet_kws={'legend_out': False}\n",
    "               )\n",
    "gg.set_xlabels(\"Probability\")\n",
    "gg.set_ylabels(\"Desnsity\")\n",
    "gg._legend.set_title(\"Annotation status\")\n",
    "gg.ax.set_xticks(np.arange(0.0, 1.1, 0.1))"
   ]
  }
 ],
 "metadata": {
  "kernelspec": {
   "display_name": "Python 3",
   "language": "python",
   "name": "python3"
  },
  "language_info": {
   "codemirror_mode": {
    "name": "ipython",
    "version": 3
   },
   "file_extension": ".py",
   "mimetype": "text/x-python",
   "name": "python",
   "nbconvert_exporter": "python",
   "pygments_lexer": "ipython3",
   "version": "3.7.0"
  }
 },
 "nbformat": 4,
 "nbformat_minor": 4
}
