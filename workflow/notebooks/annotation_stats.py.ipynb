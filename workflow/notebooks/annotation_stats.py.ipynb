{
 "cells": [
  {
   "cell_type": "code",
   "execution_count": 9,
   "metadata": {},
   "outputs": [],
   "source": [
    "import pandas as pd\n",
    "import seaborn as sns\n",
    "import numpy as np\n",
    "import matplotlib.pyplot as plt\n",
    "from pathlib import Path"
   ]
  },
  {
   "cell_type": "markdown",
   "metadata": {},
   "outputs": [],
   "source": [
    "# Annotation stats\n",
    "\n",
    "This notebook contains all calculations for the statistics mentioned on the annotation status of the pVOGs.\n",
    "\n",
    "Processing of all the annotation terms found on the database is based on the script `process_annotations.py`.\n",
    "The purpose  is to reach to a single informative annotation per pVOG. \n",
    "If that is not the case, the annotation status is defined to be unknown."
   ]
  },
  {
   "cell_type": "markdown",
   "metadata": {},
   "outputs": [],
   "source": [
    "### How many pVOGs have a meaningful annotation in the database?"
   ]
  },
  {
   "cell_type": "code",
   "execution_count": 3,
   "metadata": {},
   "outputs": [],
   "source": [
    "# Read in the result of the processing step\n",
    "ann_df = pd.read_csv(snakemake.input.annotations_tsv,\n",
    "                    sep=\"\\t\")\n",
    "\n",
    "# sanity check - how many pvogs are in there\n",
    "all_pvogs = ann_df.shape[0]\n",
    "\n",
    "# How many pvogs have been processed to be 'unknown'\n",
    "unknowns = (ann_df['annotation_processed'] == 'unknown').sum()\n",
    "\n",
    "print(\n",
    "    \"pVOGs with processed annotation value set to 'unknown' : {} / {} ({} %)\"\n",
    "    .format(unknowns,\n",
    "            all_pvogs,\n",
    "            (round(unknowns / all_pvogs, 3) * 100)))"
   ]
  },
  {
   "cell_type": "code",
   "execution_count": 5,
   "metadata": {},
   "outputs": [],
   "source": [
    "# Read in the results of the predictions\n",
    "predictions = pd.read_csv(snakemake.input.final_table_tsv, \n",
    "                             sep = \"\\t\"\n",
    "                            )\n",
    "# Split the interaction string (pvog1-pvog2) to two separate columns\n",
    "# and include them in hte dataframe\n",
    "pvog1 = [i.split('-')[0] for i in predictions['interaction'].values]\n",
    "pvog2 = [i.split('-')[1] for i in predictions['interaction'].values]\n",
    "predictions['pvog1'] = pvog1\n",
    "predictions['pvog2'] = pvog2"
   ]
  },
  {
   "cell_type": "markdown",
   "metadata": {},
   "outputs": [],
   "source": [
    "###  How many unique pvogs are covered in this dataset?"
   ]
  },
  {
   "cell_type": "code",
   "execution_count": 5,
   "metadata": {},
   "outputs": [],
   "source": [
    "unique_pvogs = set(predictions['pvog1'].values).union(set(predictions['pvog2'].values))\n",
    "\n",
    "print(\"pVOGs used for prediction : {} / {} ({} %)\".\n",
    "      format(len(unique_pvogs),\n",
    "             all_pvogs,\n",
    "             round((len(unique_pvogs) / all_pvogs), 3) * 100)\n",
    "     )"
   ]
  },
  {
   "cell_type": "markdown",
   "metadata": {},
   "outputs": [],
   "source": [
    "### How many are interacting/associated?"
   ]
  },
  {
   "cell_type": "code",
   "execution_count": 6,
   "metadata": {},
   "outputs": [],
   "source": [
    "positive_predictions = predictions[(predictions['label'] == 1.0)]\n",
    "\n",
    "print(\"All positive predictions: {}\".format(positive_predictions.shape[0]))"
   ]
  },
  {
   "cell_type": "markdown",
   "metadata": {},
   "outputs": [],
   "source": [
    "### How many of the postive interactions have probability higher than 0.65 (arbitrary high-confidence cutoff)"
   ]
  },
  {
   "cell_type": "code",
   "execution_count": 7,
   "metadata": {},
   "outputs": [],
   "source": [
    "high_confidence = positive_predictions.loc[positive_predictions['proba'] >= 0.65]\n",
    "print('High confidence (proba >= 0.65) : {} ({} % )'\n",
    "      .format(high_confidence.shape[0], \n",
    "              round((high_confidence.shape[0] / positive_predictions.shape[0]), 3) * 100))"
   ]
  },
  {
   "cell_type": "markdown",
   "metadata": {},
   "outputs": [],
   "source": [
    "### How many of the positive interactions occur between pairs where both pVOGs are annotated?"
   ]
  },
  {
   "cell_type": "code",
   "execution_count": 8,
   "metadata": {},
   "outputs": [],
   "source": [
    "both_known = positive_predictions.loc[\n",
    "    positive_predictions['pvog1_annotation_processed'].ne('unknown') & \n",
    "    positive_predictions['pvog2_annotation_processed'].ne('unknown')]\n",
    "    \n",
    "print(\"Number of positive interactions with both pVOGs annotated : {} ({} %)\"\n",
    "      .format(both_known.shape[0],\n",
    "              round((both_known.shape[0] / positive_predictions.shape[0]), 3) * 100) )\n"
   ]
  },
  {
   "cell_type": "markdown",
   "metadata": {},
   "outputs": [],
   "source": [
    "### TOP 20 - Both annotated"
   ]
  },
  {
   "cell_type": "code",
   "execution_count": 9,
   "metadata": {},
   "outputs": [],
   "source": [
    "both_known.sort_values('proba', \n",
    "                       ascending=False)[['pvog1', \n",
    "                                         'pvog2', \n",
    "                                         'proba', \n",
    "                                         'pvog1_annotation_raw', \n",
    "                                         'pvog2_annotation_raw']\n",
    "                                       ].head(n=20)"
   ]
  },
  {
   "cell_type": "markdown",
   "metadata": {},
   "outputs": [],
   "source": [
    "### How many of the positive interactions occur between pairs where at least one pVOG is annotated?"
   ]
  },
  {
   "cell_type": "code",
   "execution_count": 10,
   "metadata": {},
   "outputs": [],
   "source": [
    "one_unknown = positive_predictions.loc[\n",
    "    positive_predictions['pvog1_annotation_processed'].ne('unknown') & \n",
    "      positive_predictions['pvog2_annotation_processed'].eq('unknown')\n",
    "     | positive_predictions['pvog1_annotation_processed'].eq('unknown') & \n",
    "        positive_predictions['pvog2_annotation_processed'].ne('unknown'),\n",
    "    ]\n",
    "\n",
    "print(\"Number of interactions with at least one pVOGs annotated : {} ({} %)\"\n",
    "      .format(one_unknown.shape[0], \n",
    "              round((one_unknown.shape[0] / positive_predictions.shape[0]), 3) * 100) )"
   ]
  },
  {
   "cell_type": "markdown",
   "metadata": {},
   "outputs": [],
   "source": [
    "### How many of the positive interactions occur between pairs where neither pVOG is annotated?"
   ]
  },
  {
   "cell_type": "code",
   "execution_count": 11,
   "metadata": {},
   "outputs": [],
   "source": [
    "both_unknown = positive_predictions.loc[\n",
    "    positive_predictions['pvog1_annotation_processed'].eq('unknown') & \n",
    "    positive_predictions['pvog2_annotation_processed'].eq('unknown'),\n",
    "    ]\n",
    "print(\"Number of interactions neither pVOG annotated : {} ({} %)\"\n",
    "      .format(both_unknown.shape[0], \n",
    "              round((both_unknown.shape[0] / positive_predictions.shape[0]), 3) * 100) )"
   ]
  },
  {
   "cell_type": "markdown",
   "metadata": {},
   "outputs": [],
   "source": [
    "## A picture is a 1000 words - some say..."
   ]
  },
  {
   "cell_type": "code",
   "execution_count": 6,
   "metadata": {},
   "outputs": [],
   "source": [
    "# Put the steps fom above in a figure\n",
    "df = predictions[['interaction', 'label', 'proba', \n",
    "                'pvog1_annotation_processed',\n",
    "                'pvog2_annotation_processed']]"
   ]
  },
  {
   "cell_type": "code",
   "execution_count": 7,
   "metadata": {},
   "outputs": [],
   "source": [
    "# https://stackoverflow.com/a/60244752\n",
    "# Define the three conditions to plot\n",
    "# These will be used as hue for sns.displot()\n",
    "conditions = [\n",
    "    # Both unknown\n",
    "    df['pvog1_annotation_processed'].eq('unknown') & \n",
    "     df['pvog2_annotation_processed'].eq('unknown'),\n",
    "    # One known\n",
    "    df['pvog1_annotation_processed'].ne('unknown') & \n",
    "      df['pvog2_annotation_processed'].eq('unknown')\n",
    "     | df['pvog1_annotation_processed'].eq('unknown') & \n",
    "        df['pvog2_annotation_processed'].ne('unknown'),\n",
    "    # Both known\n",
    "    df['pvog1_annotation_processed'].ne('unknown') & \n",
    "     df['pvog2_annotation_processed'].ne('unknown'),\n",
    "]\n",
    "\n",
    "# The choices are the values to be filled in\n",
    "# when one condition from above is met.\n",
    "# e.g. (False, True, False) will give 'One known'\n",
    "choices = ['Both unknown', 'One known', 'Both known']"
   ]
  },
  {
   "cell_type": "code",
   "execution_count": 8,
   "metadata": {},
   "outputs": [],
   "source": [
    "# Fill in the values in an ann_status column\n",
    "df['ann_status'] = np.select(conditions, choices)"
   ]
  },
  {
   "cell_type": "code",
   "execution_count": 11,
   "metadata": {},
   "outputs": [],
   "source": [
    "formats = [\n",
    "    'pdf',\n",
    "    'svg',\n",
    "    'png',\n",
    "    'eps'\n",
    "]\n",
    "figures_dir = Path('results/figures')"
   ]
  },
  {
   "cell_type": "code",
   "execution_count": 13,
   "metadata": {},
   "outputs": [],
   "source": [
    "# make the plot\n",
    "sns.color_palette(\"colorblind\")\n",
    "fig6 = sns.displot(df, \n",
    "                x='proba', \n",
    "                hue='ann_status', \n",
    "                kind='hist', \n",
    "                multiple = 'stack',\n",
    "                height=5, \n",
    "                aspect=2, \n",
    "                facet_kws={'legend_out': False}\n",
    "               )\n",
    "fig6.set_xlabels(\"Probability\")\n",
    "fig6.set_ylabels(\"No. of predictions\")\n",
    "fig6._legend.set_title(\"Annotation status\")\n",
    "fig6.ax.set_xticks(np.arange(0.0, 1.1, 0.1))\n",
    "\n",
    "for fmt in formats:\n",
    "    figout_base = 'fig_6.{}'.format(fmt)\n",
    "    figout_fp = figures_dir / Path(figout_base)\n",
    "    fig6.savefig(figout_fp, dpi=600, format=fmt, bbox_inches='tight')"
   ]
  },
  {
   "cell_type": "code",
   "execution_count": 14,
   "metadata": {},
   "outputs": [],
   "source": [
    "# And what does the density look like?\n",
    "gg = sns.displot(df, \n",
    "                 x='proba', \n",
    "                 hue='ann_status', \n",
    "                 kind='kde',\n",
    "                 height=5,\n",
    "                 aspect=2, \n",
    "                 facet_kws={'legend_out': False}\n",
    "               )\n",
    "gg.set_xlabels(\"Probability\")\n",
    "gg.set_ylabels(\"Desnsity\")\n",
    "gg._legend.set_title(\"Annotation status\")\n",
    "gg.ax.set_xticks(np.arange(0.0, 1.1, 0.1))"
   ]
  },
  {
   "cell_type": "markdown",
   "metadata": {},
   "outputs": [],
   "source": [
    "## Supplementary table 1\n",
    "\n",
    "A table that contains scores for the final set of positive interactions used"
   ]
  },
  {
   "cell_type": "code",
   "execution_count": 15,
   "metadata": {},
   "outputs": [],
   "source": [
    "# The positives that passed filtering criteria\n",
    "# and were used downstream\n",
    "positives_df = pd.read_csv('results/interaction_datasets/positives/positives.features.tsv', sep = '\\t')"
   ]
  },
  {
   "cell_type": "code",
   "execution_count": 16,
   "metadata": {},
   "outputs": [],
   "source": [
    "# Concatenate the pvog interactors to represent the interaction\n",
    "# as a single value\n",
    "positives_df['interaction'] = positives_df['pvog1'] + '-' + positives_df['pvog2']"
   ]
  },
  {
   "cell_type": "code",
   "execution_count": 17,
   "metadata": {},
   "outputs": [],
   "source": [
    "# The bitsscores and evalues for each pair\n",
    "# from the original search\n",
    "searchstats_df = pd.read_csv('results/interaction_datasets/positives/positives.pvogs_interactions.tsv',\n",
    "                             sep='\\t',\n",
    "                             header=0,\n",
    "                             names=[\n",
    "                                'refseq1',\n",
    "                                'pvog1',\n",
    "                                'evalue1',\n",
    "                                'bitscore1',\n",
    "                                'refseq2',\n",
    "                                'pvog2',\n",
    "                                'evalue2',\n",
    "                                'bitscore2'\n",
    "                            ]\n",
    "                            )"
   ]
  },
  {
   "cell_type": "code",
   "execution_count": 18,
   "metadata": {},
   "outputs": [],
   "source": [
    "searchstats_df['interaction'] = searchstats_df['pvog1'] + '-' + searchstats_df['pvog2']\n",
    "# Columns were not really sorted at this stage\n",
    "# So I need to grab the inverse too\n",
    "# A-B + B-A\n",
    "searchstats_df['interaction_inverse'] = searchstats_df['pvog2'] + '-' + searchstats_df['pvog1']"
   ]
  },
  {
   "cell_type": "code",
   "execution_count": 19,
   "metadata": {},
   "outputs": [],
   "source": [
    "# subset to the ones finally used and are present\n",
    "# in the features table\n",
    "search_positives = searchstats_df.loc[searchstats_df.interaction.isin(positives_df.interaction) |\n",
    "                                      searchstats_df.interaction_inverse.isin(positives_df.interaction)\n",
    "                                     ]"
   ]
  },
  {
   "cell_type": "code",
   "execution_count": 20,
   "metadata": {},
   "outputs": [],
   "source": [
    "# Drop the intermediate cols that were used for easy access\n",
    "search_positives = search_positives.drop(['interaction', 'interaction_inverse'], axis=1)\n",
    "# Write to an output file\n",
    "search_positives.to_csv('results/interaction_datasets/positives/positives.search_stats.tsv',\n",
    "                        sep='\\t',\n",
    "                        index=False,\n",
    "                       )\n",
    "# This is going to be Supplementary table 1."
   ]
  }
 ],
 "metadata": {
  "kernelspec": {
   "display_name": "Python 3",
   "language": "python",
   "name": "python3"
  },
  "language_info": {
   "codemirror_mode": {
    "name": "ipython",
    "version": 3
   },
   "file_extension": ".py",
   "mimetype": "text/x-python",
   "name": "python",
   "nbconvert_exporter": "python",
   "pygments_lexer": "ipython3",
   "version": "3.7.0"
  }
 },
 "nbformat": 4,
 "nbformat_minor": 4
}
